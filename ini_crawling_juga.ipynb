{
  "nbformat": 4,
  "nbformat_minor": 0,
  "metadata": {
    "colab": {
      "provenance": [],
      "authorship_tag": "ABX9TyOI3CSGsFhRJ/uOYv5bp0U2",
      "include_colab_link": true
    },
    "kernelspec": {
      "name": "python3",
      "display_name": "Python 3"
    },
    "language_info": {
      "name": "python"
    }
  },
  "cells": [
    {
      "cell_type": "markdown",
      "metadata": {
        "id": "view-in-github",
        "colab_type": "text"
      },
      "source": [
        "<a href=\"https://colab.research.google.com/github/annisyaaa/ml_sentimen-analysis/blob/main/ini_crawling_juga.ipynb\" target=\"_parent\"><img src=\"https://colab.research.google.com/assets/colab-badge.svg\" alt=\"Open In Colab\"/></a>"
      ]
    },
    {
      "cell_type": "code",
      "execution_count": null,
      "metadata": {
        "id": "VLNC6xmJEQEA"
      },
      "outputs": [],
      "source": [
        "#Import Packages\n",
        "import tweepy as tw\n",
        "import re\n",
        "import pandas as pd\n",
        "from textblob import TextBlob"
      ]
    },
    {
      "cell_type": "code",
      "source": [
        "api_key = # Input API Key Disini\n",
        "api_key_secret = # Input API Key Secret Disini\n",
        "access_token = # Input Access Token Disini\n",
        "access_token_secret = # Input Access Token Secret Disini\n",
        "     "
      ],
      "metadata": {
        "id": "8p1SJZGrFjY1"
      },
      "execution_count": null,
      "outputs": []
    },
    {
      "cell_type": "code",
      "source": [
        "auth = tw.OAuthHandler(api_key, api_key_secret)\n",
        "auth.set_access_token(access_token, access_token_secret)\n",
        "api = tw.API(auth)\n",
        "     "
      ],
      "metadata": {
        "id": "XOstapcfFrc7"
      },
      "execution_count": null,
      "outputs": []
    },
    {
      "cell_type": "code",
      "source": [
        "#crawling data\n",
        "search_term = (\"kdrt\")\n",
        "tweet_search = api.search(q=search_term, lang=\"id\",count=250, tweet_mode = \"extended\")"
      ],
      "metadata": {
        "id": "InNYLFX4F054"
      },
      "execution_count": null,
      "outputs": []
    },
    {
      "cell_type": "code",
      "source": [
        "data_search =[]\n",
        "\n",
        "for teks in tweet_search:\n",
        "    teks_properties= {}\n",
        "    teks_properties[\"Tanggal\"]=teks.created_at\n",
        "    teks_properties[\"Pengguna\"]=teks.user.screen_name\n",
        "    teks_clean = ' '.join(re.sub(\"(@[A-Za-z0-9]+)\",\" \",teks.full_text).split())\n",
        "    teks_properties[\"Tweet\"]= teks_clean\n",
        "\n",
        "    analysis = TextBlob(teks_clean)\n",
        "    if analysis.sentiment.polarity > 0.0:\n",
        "      teks_properties[\"Sentimen\"]= 'Positif'\n",
        "    elif analysis.sentiment.polarity == 0.0:\n",
        "      teks_properties[\"Sentimen\"]= 'Netral'\n",
        "    else:\n",
        "      teks_properties[\"Sentimen\"]= 'Negatif'\n",
        "\n",
        "    if teks.retweet_count > 0:\n",
        "        if teks_properties not in data_search:\n",
        "            data_search.append(teks_properties)\n",
        "    else:\n",
        "        data_search.append(teks_properties)\n",
        "        \n",
        "data_search"
      ],
      "metadata": {
        "id": "ZST6gaEnF-eI"
      },
      "execution_count": null,
      "outputs": []
    },
    {
      "cell_type": "code",
      "source": [
        "df.to_csv('data_kdrt.csv')"
      ],
      "metadata": {
        "id": "hjpg3_6PGGln"
      },
      "execution_count": null,
      "outputs": []
    }
  ]
}